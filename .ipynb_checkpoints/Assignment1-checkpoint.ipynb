{
 "cells": [
  {
   "cell_type": "code",
   "execution_count": 1,
   "metadata": {
    "scrolled": false
   },
   "outputs": [
    {
     "name": "stdout",
     "output_type": "stream",
     "text": [
      "4000\n",
      "2000=2 "
     ]
    }
   ],
   "source": [
    "l1=[2000,500,100,50,20,10]\n",
    "l2=[]\n",
    "d={}\n",
    "num=int(input())\n",
    "count1,count2,count3,count4,count5,count6=0,0,0,0,0,0\n",
    "while(num>=10):\n",
    "    if num>=2000:\n",
    "        num-=2000\n",
    "        count1+=1\n",
    "    elif num>=500:\n",
    "        num-=500\n",
    "        count2+=1\n",
    "    elif num>=100:\n",
    "        num-=100\n",
    "        count3+=1\n",
    "    elif num>=50:\n",
    "        num-=50\n",
    "        count4+=1      \n",
    "    elif num>=20:\n",
    "        num-=20\n",
    "        count5+=1\n",
    "    elif num>=10:\n",
    "        num-=10\n",
    "        count6+=1 \n",
    "x=[count1,count2,count3,count4,count5,count6]\n",
    "for i in range(len(l1)):\n",
    "    if x[i]>0:\n",
    "        print(\"{}={}\".format(l1[i],x[i]),end=\" \")       \n",
    "    "
   ]
  },
  {
   "cell_type": "code",
   "execution_count": 2,
   "metadata": {},
   "outputs": [
    {
     "name": "stdout",
     "output_type": "stream",
     "text": [
      "aaadddfff\n",
      "a\n"
     ]
    }
   ],
   "source": [
    "s=input()\n",
    "n=len(s)\n",
    "i=0\n",
    "d={}\n",
    "l=[]\n",
    "while(i<n):\n",
    "    count=0\n",
    "    j=i\n",
    "    while(j<n):\n",
    "        if s[i]==s[j]:\n",
    "            count+=1\n",
    "            j+=1\n",
    "            continue\n",
    "        break\n",
    "    d.setdefault(count,s[i])\n",
    "    l.append(count)\n",
    "    i=j\n",
    "print(d.get(max(l)))"
   ]
  },
  {
   "cell_type": "code",
   "execution_count": 4,
   "metadata": {
    "scrolled": true
   },
   "outputs": [
    {
     "name": "stdout",
     "output_type": "stream",
     "text": [
      "1 3 5 7 6 4 \n",
      "[1, 3, 5, 7] Total nelement removed 2\n"
     ]
    }
   ],
   "source": [
    "n=list(map(int,input().split()))\n",
    "l=[]\n",
    "for i in range(len(n)):\n",
    "    if n[i]%2 !=0:\n",
    "        l.append(n[i])\n",
    "print(l,\"Total nelement removed\",len(n)-len(l))\n",
    "        \n",
    "        "
   ]
  },
  {
   "cell_type": "code",
   "execution_count": null,
   "metadata": {},
   "outputs": [],
   "source": [
    "s=set()\n",
    "states = {'New Hampshire': ['Concord', 'Hanover'],\n",
    "\n",
    "'Massachusetts': ['Boston', 'Concord', 'Springfield'],\n",
    "\n",
    "'Illinois': ['Chicago', 'Springfield', 'Peoria'] }\n",
    "\n",
    "d=dict()\n",
    "for i in states:\n",
    "   \n",
    "    for j in states[i]:\n",
    "        s.add(j)\n",
    "\n",
    "for i in s:\n",
    "    for j in states:\n",
    "        if i in states[j]:\n",
    "            x=d.get(i,None)\n",
    "            if x is not None:\n",
    "                d[i].append(j)\n",
    "            else:\n",
    "                d[i]=[j]\n",
    "print(d)\n"
   ]
  },
  {
   "cell_type": "code",
   "execution_count": 5,
   "metadata": {},
   "outputs": [
    {
     "name": "stdout",
     "output_type": "stream",
     "text": [
      "Acme\n"
     ]
    }
   ],
   "source": [
    "restaurants = [ [ \"Acme\", \"Italian\", 2, 4, 3, 5],[ \"Flintstone\", \"Steak\", 5, 2, 4, 3, 3, 4],[ \"Bella Troy\", \"Italian\", 1, 4, 5] ]\n",
    "for i in restaurants:\n",
    "    t=True\n",
    "    v=False\n",
    "    if(i[1]==\"Italian\"):\n",
    "        for j in range(2,len(i)):\n",
    "            if(i[j]==1):\n",
    "                t=False\n",
    "                break\n",
    "            else:\n",
    "                if(i[j]==5):\n",
    "                    v=True\n",
    "    if(t and v):\n",
    "        print(i[0])             "
   ]
  },
  {
   "cell_type": "code",
   "execution_count": 6,
   "metadata": {},
   "outputs": [
    {
     "name": "stdout",
     "output_type": "stream",
     "text": [
      "999944466\n",
      "zin\n"
     ]
    }
   ],
   "source": [
    "d={2:[\"a\",\"b\",\"c\"],3:[\"d\",\"e\",\"f\"],4:[\"g\",\"h\",\"i\"],5:[\"j\",\"k\",\"l\"],6:[\"m\",\"n\",\"o\"],7:[\"p\",\"q\",\"r\",\"s\"],8:[\"t\",\"u\",\"v\"],9:[\"w\",\"x\",\"y\",\"z\"]}\n",
    "n=input()\n",
    "i=0\n",
    "count=1\n",
    "s=''\n",
    "while(i<len(n)):\n",
    "    if(i<len(n)-1 and n[i]==n[i+1]):\n",
    "        count+=1\n",
    "    else:\n",
    "        s+=d[int(n[i])][count-1]\n",
    "        count=1\n",
    "    i+=1\n",
    "print(s)\n",
    "        "
   ]
  },
  {
   "cell_type": "code",
   "execution_count": null,
   "metadata": {},
   "outputs": [],
   "source": []
  },
  {
   "cell_type": "code",
   "execution_count": null,
   "metadata": {},
   "outputs": [],
   "source": []
  },
  {
   "cell_type": "code",
   "execution_count": null,
   "metadata": {},
   "outputs": [],
   "source": []
  }
 ],
 "metadata": {
  "kernelspec": {
   "display_name": "Python 3",
   "language": "python",
   "name": "python3"
  },
  "language_info": {
   "codemirror_mode": {
    "name": "ipython",
    "version": 3
   },
   "file_extension": ".py",
   "mimetype": "text/x-python",
   "name": "python",
   "nbconvert_exporter": "python",
   "pygments_lexer": "ipython3",
   "version": "3.6.2"
  }
 },
 "nbformat": 4,
 "nbformat_minor": 2
}
