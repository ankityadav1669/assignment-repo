{
 "cells": [
  {
   "cell_type": "code",
   "execution_count": 1,
   "metadata": {},
   "outputs": [
    {
     "name": "stdout",
     "output_type": "stream",
     "text": [
      "hi\n"
     ]
    }
   ],
   "source": [
    "print(\"hi\")"
   ]
  },
  {
   "cell_type": "code",
   "execution_count": null,
   "metadata": {},
   "outputs": [],
   "source": [
    "To execute:\n",
    "    ctrl+enter\n",
    "    b--add new cell\n",
    "    a--add new cell above"
   ]
  },
  {
   "cell_type": "code",
   "execution_count": 5,
   "metadata": {},
   "outputs": [
    {
     "name": "stdout",
     "output_type": "stream",
     "text": [
      "p\n"
     ]
    }
   ],
   "source": [
    "num=6\n",
    "l=[]\n",
    "for i in range(1,num):\n",
    "    if num%i==0:\n",
    "        l.append(i)\n",
    "s=sum(l)\n",
    "if num==s:\n",
    "    print(\"p\")\n",
    "else:\n",
    "    print(\"np\")"
   ]
  },
  {
   "cell_type": "code",
   "execution_count": 8,
   "metadata": {},
   "outputs": [
    {
     "name": "stdout",
     "output_type": "stream",
     "text": [
      "p\n"
     ]
    }
   ],
   "source": [
    "num=6\n",
    "s=0\n",
    "for i in range(1,num//+1):\n",
    "    if num%i==0:\n",
    "        s+=i\n",
    "if num==s:\n",
    "    print(\"p\")\n",
    "else:\n",
    "    print(\"np\")"
   ]
  },
  {
   "cell_type": "code",
   "execution_count": 12,
   "metadata": {},
   "outputs": [
    {
     "name": "stdout",
     "output_type": "stream",
     "text": [
      "4 7\n"
     ]
    }
   ],
   "source": [
    "s=\"python is very eassy\"\n",
    "count_vovel=0\n",
    "count_consonent=0\n",
    "l=[\"a\",\"e\",\"i\",\"o\",\"u\"]\n",
    "for i in s[7:]:\n",
    "    if i in l:\n",
    "        count_vovel+=1\n",
    "    elif i.isspace():\n",
    "        pass\n",
    "    else:\n",
    "        count_consonent+=1\n",
    "print(count_vovel,count_consonent)"
   ]
  },
  {
   "cell_type": "code",
   "execution_count": 15,
   "metadata": {},
   "outputs": [
    {
     "name": "stdout",
     "output_type": "stream",
     "text": [
      "c,java,python\n"
     ]
    }
   ],
   "source": [
    "s=\"python,java,c\"\n",
    "l=s.split(\",\")\n",
    "s1=(\",\".join(l[::-1]))\n",
    "print(s1)\n"
   ]
  },
  {
   "cell_type": "code",
   "execution_count": null,
   "metadata": {},
   "outputs": [],
   "source": [
    "s=\"Python Sample\"\n",
    "if s==s.capitalize():\n",
    "    print(\"t\")\n",
    "else:\n",
    "    print(\"f\")"
   ]
  },
  {
   "cell_type": "code",
   "execution_count": 16,
   "metadata": {},
   "outputs": [
    {
     "name": "stdout",
     "output_type": "stream",
     "text": [
      "h  i\n"
     ]
    }
   ],
   "source": [
    "s=\"    h  i   \"\n",
    "print(s.strip())"
   ]
  },
  {
   "cell_type": "code",
   "execution_count": 20,
   "metadata": {},
   "outputs": [
    {
     "name": "stdout",
     "output_type": "stream",
     "text": [
      "**************python\n",
      "**************python\n"
     ]
    }
   ],
   "source": [
    "s=\"python\"\n",
    "s=s.rjust(20,\"*\")\n",
    "print(s)"
   ]
  },
  {
   "cell_type": "code",
   "execution_count": 22,
   "metadata": {},
   "outputs": [
    {
     "name": "stdout",
     "output_type": "stream",
     "text": [
      " 1 helo gyes 1234\n"
     ]
    }
   ],
   "source": [
    "s=\"abcd\"\n",
    "s1=\"1234\"\n",
    "s3=\" a helo gyes abcd\"\n",
    "a=str.maketrans(\"abcd\",\"1234\")\n",
    "s3=s3.translate(a)\n",
    "print(s3)"
   ]
  },
  {
   "cell_type": "code",
   "execution_count": 24,
   "metadata": {},
   "outputs": [
    {
     "name": "stdout",
     "output_type": "stream",
     "text": [
      "[1, 2, 3, 4, 5, 6, 7, 8, 9]\n"
     ]
    }
   ],
   "source": [
    "l=[[1,2,3],[4,5,6],[7,8,9]]\n",
    "l1=[]\n",
    "for i in l:\n",
    "    l1.extend(i)\n",
    "print(l1)\n",
    "    "
   ]
  },
  {
   "cell_type": "code",
   "execution_count": null,
   "metadata": {},
   "outputs": [],
   "source": [
    "pop--index\n",
    "remove--value\n"
   ]
  },
  {
   "cell_type": "code",
   "execution_count": 25,
   "metadata": {},
   "outputs": [
    {
     "name": "stdout",
     "output_type": "stream",
     "text": [
      "True\n"
     ]
    }
   ],
   "source": [
    "l1=[1,2,3]\n",
    "l2=l1\n",
    "print(l1 is l2)"
   ]
  },
  {
   "cell_type": "code",
   "execution_count": 27,
   "metadata": {},
   "outputs": [
    {
     "name": "stdout",
     "output_type": "stream",
     "text": [
      "0 10\n",
      "1 20\n",
      "2 30\n"
     ]
    }
   ],
   "source": [
    "l=[10,20,30,]\n",
    "for index,value in enumerate(l):\n",
    "    print(index,value)"
   ]
  },
  {
   "cell_type": "code",
   "execution_count": null,
   "metadata": {},
   "outputs": [],
   "source": [
    "dict--\n",
    "       mutable\n",
    "       unordered\n",
    "        all key should be unique\n",
    "        all key should be immutable -- int float str tuple"
   ]
  },
  {
   "cell_type": "code",
   "execution_count": null,
   "metadata": {},
   "outputs": [],
   "source": [
    "get: check if key present if present return the value\n",
    "                            else return none\n",
    "setdefault: check if key is present. if present return value\n",
    "                                      else add key and value"
   ]
  },
  {
   "cell_type": "code",
   "execution_count": null,
   "metadata": {},
   "outputs": [],
   "source": [
    "{'a':97,'b':98,..........,'z':122}\n",
    "ord()==char-ascii\n",
    "char()==ascii-char"
   ]
  },
  {
   "cell_type": "code",
   "execution_count": 34,
   "metadata": {},
   "outputs": [
    {
     "name": "stdout",
     "output_type": "stream",
     "text": [
      "{'a': 97, 'b': 98, 'c': 99, 'd': 100, 'e': 101, 'f': 102, 'g': 103, 'h': 104, 'i': 105, 'j': 106, 'k': 107, 'l': 108, 'm': 109, 'n': 110, 'o': 111, 'p': 112, 'q': 113, 'r': 114, 's': 115, 't': 116, 'u': 117, 'v': 118, 'w': 119, 'x': 120, 'y': 121, 'z': 122}\n"
     ]
    }
   ],
   "source": [
    "x1={}\n",
    "x2=1\n",
    "for i in range(97,123):\n",
    "   x1.setdefault(chr(i),i)\n",
    "print(x1)\n",
    "    "
   ]
  },
  {
   "cell_type": "code",
   "execution_count": null,
   "metadata": {},
   "outputs": [],
   "source": [
    "n=50\n",
    "while(n>=1):\n",
    "    if n==1:\n",
    "        break    \n",
    "    elif n%2==0:\n",
    "        n=n//2\n",
    "        print(n)\n",
    "    else:\n",
    "        n=n*3\n",
    "        n=n+1\n",
    "        print(n)\n",
    "        "
   ]
  },
  {
   "cell_type": "code",
   "execution_count": null,
   "metadata": {},
   "outputs": [],
   "source": [
    "nums = [1,2,3,4,5] \n",
    "sum = 7\n",
    "for i in range(len(nums)):\n",
    "    for j in range(len(nums)):\n",
    "        if i+j==sum:\n",
    "            print(i,j)"
   ]
  },
  {
   "cell_type": "code",
   "execution_count": null,
   "metadata": {},
   "outputs": [],
   "source": []
  }
 ],
 "metadata": {
  "kernelspec": {
   "display_name": "Python 3",
   "language": "python",
   "name": "python3"
  },
  "language_info": {
   "codemirror_mode": {
    "name": "ipython",
    "version": 3
   },
   "file_extension": ".py",
   "mimetype": "text/x-python",
   "name": "python",
   "nbconvert_exporter": "python",
   "pygments_lexer": "ipython3",
   "version": "3.6.2"
  }
 },
 "nbformat": 4,
 "nbformat_minor": 2
}
