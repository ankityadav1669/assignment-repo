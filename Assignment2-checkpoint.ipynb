{
 "cells": [
  {
   "cell_type": "code",
   "execution_count": null,
   "metadata": {
    "scrolled": true
   },
   "outputs": [],
   "source": [
    "num1=int(input())\n",
    "num2=int(input())\n",
    "x=[(num1+num2)*2 if num1==num2 else num1+num2]\n",
    "print(x)"
   ]
  },
  {
   "cell_type": "code",
   "execution_count": null,
   "metadata": {},
   "outputs": [],
   "source": [
    "c_price=int(input())\n",
    "s_price=int(input())\n",
    "if s_price>c_price:\n",
    "    x=((s_price-c_price)/c_price)*100\n",
    "    print(\"Profit of\",x)\n",
    "else:\n",
    "    y=((c_price-s_price)/c_price)*100  \n",
    "    print(\"Loss of\",y)"
   ]
  },
  {
   "cell_type": "code",
   "execution_count": 4,
   "metadata": {
    "scrolled": true
   },
   "outputs": [
    {
     "name": "stdout",
     "output_type": "stream",
     "text": [
      "10\n",
      "20\n",
      "30\n",
      "Invalid\n"
     ]
    }
   ],
   "source": [
    "angle_a=int(input())\n",
    "angle_b=int(input())\n",
    "angle_c=int(input())\n",
    "if angle_a+angle_b+angle_c==180 and (angle_a and angle_b and angle_c)>0:\n",
    "    print(\"Valid\")\n",
    "else:\n",
    "    print(\"Invalid\")"
   ]
  },
  {
   "cell_type": "code",
   "execution_count": null,
   "metadata": {
    "scrolled": true
   },
   "outputs": [],
   "source": [
    "lst=list(map(int,input().split()))\n",
    "m=max(lst)\n",
    "for i in range(len(lst)):\n",
    "    if lst[i]==m:\n",
    "        print(m,\",index is\",i)"
   ]
  },
  {
   "cell_type": "code",
   "execution_count": 23,
   "metadata": {},
   "outputs": [
    {
     "name": "stdout",
     "output_type": "stream",
     "text": [
      "10\n",
      "0 1 1 2 3 5 8 13 21 34 "
     ]
    }
   ],
   "source": [
    "n=int(input())\n",
    "a=0\n",
    "b=1\n",
    "for i in range(1,n+1):\n",
    "    if i==1:\n",
    "        print(a,end=\" \")\n",
    "    elif i==2:\n",
    "        print(b,end=\" \")\n",
    "    elif i>2:\n",
    "        c=a+b\n",
    "        print(c,end=\" \")\n",
    "        a=b\n",
    "        b=c\n",
    "        \n",
    "    \n",
    "    "
   ]
  },
  {
   "cell_type": "code",
   "execution_count": 48,
   "metadata": {},
   "outputs": [
    {
     "name": "stdout",
     "output_type": "stream",
     "text": [
      "Python sample input string\n",
      "PythOn sAmplE InpUt strIng \n"
     ]
    }
   ],
   "source": [
    "s=input()\n",
    "vowels=['a','e','i','o','u']\n",
    "s=s.split(' ')\n",
    "index_count=0\n",
    "for i in s:\n",
    "    j=0\n",
    "    n=len(i)\n",
    "    x=''\n",
    "    while(j<n):\n",
    "        if(i[j] in vowels):\n",
    "            x=x+i[j].upper()\n",
    "            j+=1\n",
    "            continue\n",
    "        x=x+i[j]\n",
    "        j+=1\n",
    "    s[index_count]=x+' '\n",
    "    index_count+=1\n",
    "\n",
    "print(''.join(s))\n",
    "    \n",
    "    \n"
   ]
  },
  {
   "cell_type": "code",
   "execution_count": 47,
   "metadata": {},
   "outputs": [
    {
     "name": "stdout",
     "output_type": "stream",
     "text": [
      "1.2\n",
      "Valid Floating Point Number\n"
     ]
    }
   ],
   "source": [
    "s=input()\n",
    "s=s.split('.')\n",
    "if(s[0]=='' or s[-1]==''):\n",
    "    print(\"Invalid Floating Point Number\")\n",
    "else:\n",
    "    print(\"Valid Floating Point Number\")"
   ]
  },
  {
   "cell_type": "code",
   "execution_count": null,
   "metadata": {},
   "outputs": [],
   "source": [
    "a = [[10,20,30], [40,50,60], [70,80,90]]\n",
    "b = [[1,2,3], [4,5,6], [7,8,9]]\n",
    "c=[]\n",
    "for j in range(len(a)):\n",
    "    for i in range(len(a)):\n",
    "        c.append([a[j][i]+b[j][i]])\n",
    "    \n",
    "    "
   ]
  },
  {
   "cell_type": "code",
   "execution_count": 3,
   "metadata": {},
   "outputs": [
    {
     "name": "stdout",
     "output_type": "stream",
     "text": [
      "{10: 3, 20: 2, 30: 1}\n"
     ]
    }
   ],
   "source": [
    "nums=[10,10,20,10,30,20]\n",
    "s=set(nums)\n",
    "d={}\n",
    "for i in s:\n",
    "    c=nums.count(i)\n",
    "    d[i]=c\n",
    "print(d)  "
   ]
  },
  {
   "cell_type": "code",
   "execution_count": null,
   "metadata": {},
   "outputs": [],
   "source": []
  },
  {
   "cell_type": "code",
   "execution_count": 16,
   "metadata": {},
   "outputs": [
    {
     "name": "stdout",
     "output_type": "stream",
     "text": [
      "10000000\n",
      "2777:46:40\n"
     ]
    }
   ],
   "source": [
    "n=int(input())\n",
    "if n<=60:\n",
    "    print(\"{h}:{m}:{s}\".format(h=0,m=0,s=n))\n",
    "else:\n",
    "    m=n//60\n",
    "    s=n%60\n",
    "    if m<=60:\n",
    "        print(\"{h}:{m}:{s}\".format(h=0,m=m,s=s))\n",
    "    else:\n",
    "        h=m//60\n",
    "        m=m%60\n",
    "        print(\"{h}:{m}:{s}\".format(h=h,m=m,s=s))\n",
    "    "
   ]
  },
  {
   "cell_type": "code",
   "execution_count": null,
   "metadata": {},
   "outputs": [],
   "source": []
  },
  {
   "cell_type": "code",
   "execution_count": null,
   "metadata": {},
   "outputs": [],
   "source": []
  },
  {
   "cell_type": "code",
   "execution_count": 5,
   "metadata": {},
   "outputs": [
    {
     "name": "stdout",
     "output_type": "stream",
     "text": [
      "50\n",
      "30.0\n"
     ]
    }
   ],
   "source": [
    "n=int(input())\n",
    "if(n>0 and n<=50):\n",
    "    bill=n*.50\n",
    "elif(n<=150):\n",
    "    bill=50*.50+(n-50)*.75\n",
    "elif(n<=250):\n",
    "    bill=50*.50+(0.75)*100+(n-150)*1.20\n",
    "else:\n",
    "    bill=50*.50+(0.75)*100+(100)*1.20+(n-250)*1.50\n",
    "bill=bill+(bill*20)/100\n",
    "print(bill)"
   ]
  },
  {
   "cell_type": "code",
   "execution_count": 4,
   "metadata": {},
   "outputs": [
    {
     "name": "stdout",
     "output_type": "stream",
     "text": [
      "500\n",
      "5\n",
      "125.0\n"
     ]
    }
   ],
   "source": [
    "r=int(input())\n",
    "n=int(input())\n",
    "if n==1:\n",
    "    tip=(r*5)/100\n",
    "    print(tip)\n",
    "if n==2:\n",
    "    tip=(r*10)/100\n",
    "    print(tip)\n",
    "if n==3:\n",
    "    tip=(r*15)/100\n",
    "    print(tip)\n",
    "if n==4:\n",
    "    tip=(r*20)/100\n",
    "    print(tip)\n",
    "if n==5:\n",
    "    tip=(r*25)/100\n",
    "    print(tip)"
   ]
  },
  {
   "cell_type": "code",
   "execution_count": null,
   "metadata": {},
   "outputs": [],
   "source": [
    "\n",
    "\n"
   ]
  },
  {
   "cell_type": "code",
   "execution_count": null,
   "metadata": {},
   "outputs": [],
   "source": [
    "import random\n",
    "ticket=input()\n",
    "def gen_pass(num=5):\n",
    "    upper=chr(random.randint(65,90))\n",
    "    digits=random.randint(1000,9999)\n",
    "    password=upper+str(digits)\n",
    "    l2=random.sample(password,num)\n",
    "    return (\"\").join(l2)\n",
    "result = gen_pass()\n",
    "if ticket[:3] == \"INC\" and ticket[3:]==result:\n",
    "    print(\"valid\")\n",
    "else:\n",
    "    print(\"invalid\")"
   ]
  },
  {
   "cell_type": "code",
   "execution_count": null,
   "metadata": {},
   "outputs": [],
   "source": []
  },
  {
   "cell_type": "code",
   "execution_count": null,
   "metadata": {},
   "outputs": [],
   "source": []
  },
  {
   "cell_type": "code",
   "execution_count": null,
   "metadata": {},
   "outputs": [],
   "source": [
    "filenames=['text1.txt','text2.txt']\n",
    "with open('output_file','w') as outfile:\n",
    "    for fname in filenames:\n",
    "        with open(fname) as infile:\n",
    "            outfile.write(infile.read())\n",
    "        "
   ]
  },
  {
   "cell_type": "code",
   "execution_count": 14,
   "metadata": {},
   "outputs": [],
   "source": [
    "with open('myfile') as file:\n",
    "    for line in file:\n",
    "        if not line.isspace():\n",
    "            file.write(line)"
   ]
  }
 ],
 "metadata": {
  "kernelspec": {
   "display_name": "Python 3",
   "language": "python",
   "name": "python3"
  },
  "language_info": {
   "codemirror_mode": {
    "name": "ipython",
    "version": 3
   },
   "file_extension": ".py",
   "mimetype": "text/x-python",
   "name": "python",
   "nbconvert_exporter": "python",
   "pygments_lexer": "ipython3",
   "version": "3.6.2"
  }
 },
 "nbformat": 4,
 "nbformat_minor": 2
}
