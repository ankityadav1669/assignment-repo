{
 "cells": [
  {
   "cell_type": "code",
   "execution_count": null,
   "metadata": {
    "scrolled": true
   },
   "outputs": [],
   "source": [
    "num1=int(input())\n",
    "num2=int(input())\n",
    "x=[(num1+num2)*2 if num1==num2 else num1+num2]\n",
    "print(x)"
   ]
  },
  {
   "cell_type": "code",
   "execution_count": null,
   "metadata": {},
   "outputs": [],
   "source": [
    "c_price=int(input())\n",
    "s_price=int(input())\n",
    "if s_price>c_price:\n",
    "    x=((s_price-c_price)/c_price)*100\n",
    "    print(\"Profit of\",x)\n",
    "else:\n",
    "    y=((c_price-s_price)/c_price)*100  \n",
    "    print(\"Loss of\",y)"
   ]
  },
  {
   "cell_type": "code",
   "execution_count": 4,
   "metadata": {
    "scrolled": true
   },
   "outputs": [
    {
     "name": "stdout",
     "output_type": "stream",
     "text": [
      "10\n",
      "20\n",
      "30\n",
      "Invalid\n"
     ]
    }
   ],
   "source": [
    "angle_a=int(input())\n",
    "angle_b=int(input())\n",
    "angle_c=int(input())\n",
    "if angle_a+angle_b+angle_c==180 and (angle_a and angle_b and angle_c)>0:\n",
    "    print(\"Valid\")\n",
    "else:\n",
    "    print(\"Invalid\")"
   ]
  },
  {
   "cell_type": "code",
   "execution_count": null,
   "metadata": {
    "scrolled": true
   },
   "outputs": [],
   "source": [
    "lst=list(map(int,input().split()))\n",
    "m=max(lst)\n",
    "for i in range(len(lst)):\n",
    "    if lst[i]==m:\n",
    "        print(m,\",index is\",i)"
   ]
  },
  {
   "cell_type": "code",
   "execution_count": 23,
   "metadata": {},
   "outputs": [
    {
     "name": "stdout",
     "output_type": "stream",
     "text": [
      "10\n",
      "0 1 1 2 3 5 8 13 21 34 "
     ]
    }
   ],
   "source": [
    "n=int(input())\n",
    "a=0\n",
    "b=1\n",
    "for i in range(1,n+1):\n",
    "    if i==1:\n",
    "        print(a,end=\" \")\n",
    "    elif i==2:\n",
    "        print(b,end=\" \")\n",
    "    elif i>2:\n",
    "        c=a+b\n",
    "        print(c,end=\" \")\n",
    "        a=b\n",
    "        b=c\n",
    "        \n",
    "    \n",
    "    "
   ]
  },
  {
   "cell_type": "code",
   "execution_count": 48,
   "metadata": {},
   "outputs": [
    {
     "name": "stdout",
     "output_type": "stream",
     "text": [
      "Python sample input string\n",
      "PythOn sAmplE InpUt strIng \n"
     ]
    }
   ],
   "source": [
    "s=input()\n",
    "vowels=['a','e','i','o','u']\n",
    "s=s.split(' ')\n",
    "index_count=0\n",
    "for i in s:\n",
    "    j=0\n",
    "    n=len(i)\n",
    "    x=''\n",
    "    while(j<n):\n",
    "        if(i[j] in vowels):\n",
    "            x=x+i[j].upper()\n",
    "            j+=1\n",
    "            continue\n",
    "        x=x+i[j]\n",
    "        j+=1\n",
    "    s[index_count]=x+' '\n",
    "    index_count+=1\n",
    "\n",
    "print(''.join(s))\n",
    "    \n",
    "    \n"
   ]
  },
  {
   "cell_type": "code",
   "execution_count": 47,
   "metadata": {},
   "outputs": [
    {
     "name": "stdout",
     "output_type": "stream",
     "text": [
      "1.2\n",
      "Valid Floating Point Number\n"
     ]
    }
   ],
   "source": [
    "s=input()\n",
    "s=s.split('.')\n",
    "if(s[0]=='' or s[-1]==''):\n",
    "    print(\"Invalid Floating Point Number\")\n",
    "else:\n",
    "    print(\"Valid Floating Point Number\")"
   ]
  },
  {
   "cell_type": "code",
   "execution_count": 17,
   "metadata": {},
   "outputs": [
    {
     "name": "stdout",
     "output_type": "stream",
     "text": [
      "[[11, 22, 33], [44, 55, 66], [77, 88, 99]]\n"
     ]
    }
   ],
   "source": [
    "a = [[10,20,30], [40,50,60], [70,80,90]]\n",
    "b = [[1,2,3], [4,5,6], [7,8,9]]\n",
    "c=[]\n",
    "for j in range(len(a)):\n",
    "    x=[]\n",
    "    for i in range(len(a)):\n",
    "        x.append(a[j][i]+b[j][i])\n",
    "    c.append(x)\n",
    "print(c)  \n",
    "    "
   ]
  },
  {
   "cell_type": "code",
   "execution_count": 3,
   "metadata": {},
   "outputs": [
    {
     "name": "stdout",
     "output_type": "stream",
     "text": [
      "{10: 3, 20: 2, 30: 1}\n"
     ]
    }
   ],
   "source": [
    "nums=[10,10,20,10,30,20]\n",
    "s=set(nums)\n",
    "d={}\n",
    "for i in s:\n",
    "    c=nums.count(i)\n",
    "    d[i]=c\n",
    "print(d)  "
   ]
  },
  {
   "cell_type": "code",
   "execution_count": 25,
   "metadata": {},
   "outputs": [
    {
     "name": "stdout",
     "output_type": "stream",
     "text": [
      "{'C': ['A', 'B'], 'F': ['C', 'E', 'F'], 'E': ['D']}\n"
     ]
    }
   ],
   "source": [
    "d=[{ \"A\":\"C\" }, { \"B\": \"C\" }, { \"C\": \"F\" }, { \"D\":\"E\" }, { \"E\": \"F\" },{ \"F\":\"F\" }]\n",
    "new_dict=dict()\n",
    "for i in d:\n",
    "    for j in i:\n",
    "        x=i[j]\n",
    "        y=new_dict.get(x,None)\n",
    "        if(y!=None):\n",
    "            new_dict[x].append(j)\n",
    "        else:\n",
    "            new_dict[x]=[j]\n",
    "print(new_dict)\n",
    "        \n",
    "    \n"
   ]
  },
  {
   "cell_type": "code",
   "execution_count": 16,
   "metadata": {},
   "outputs": [
    {
     "name": "stdout",
     "output_type": "stream",
     "text": [
      "10000000\n",
      "2777:46:40\n"
     ]
    }
   ],
   "source": [
    "n=int(input())\n",
    "if n<=60:\n",
    "    print(\"{h}:{m}:{s}\".format(h=0,m=0,s=n))\n",
    "else:\n",
    "    m=n//60\n",
    "    s=n%60\n",
    "    if m<=60:\n",
    "        print(\"{h}:{m}:{s}\".format(h=0,m=m,s=s))\n",
    "    else:\n",
    "        h=m//60\n",
    "        m=m%60\n",
    "        print(\"{h}:{m}:{s}\".format(h=h,m=m,s=s))\n",
    "    "
   ]
  },
  {
   "cell_type": "code",
   "execution_count": null,
   "metadata": {},
   "outputs": [],
   "source": []
  },
  {
   "cell_type": "code",
   "execution_count": 29,
   "metadata": {},
   "outputs": [
    {
     "name": "stdout",
     "output_type": "stream",
     "text": [
      "{'username': 'ABC', 'Id': 101, 'name': 'XYZ'}\n"
     ]
    }
   ],
   "source": [
    "eg={\"username\": \"ABC\", \"channel\" : {\"Id\" : 101,\"name\": \"XYZ\"}}\n",
    "d=dict()\n",
    "for i in eg:\n",
    "    if (i==\"username\"):\n",
    "        d[\"username\"]=eg[\"username\"]\n",
    "    elif(i==\"channel\"):\n",
    "        for j in eg[\"channel\"]:\n",
    "            d[j]=eg[\"channel\"][j]\n",
    "print(d)\n"
   ]
  },
  {
   "cell_type": "code",
   "execution_count": 5,
   "metadata": {},
   "outputs": [
    {
     "name": "stdout",
     "output_type": "stream",
     "text": [
      "50\n",
      "30.0\n"
     ]
    }
   ],
   "source": [
    "n=int(input())\n",
    "if(n>0 and n<=50):\n",
    "    bill=n*.50\n",
    "elif(n<=150):\n",
    "    bill=50*.50+(n-50)*.75\n",
    "elif(n<=250):\n",
    "    bill=50*.50+(0.75)*100+(n-150)*1.20\n",
    "else:\n",
    "    bill=50*.50+(0.75)*100+(100)*1.20+(n-250)*1.50\n",
    "bill=bill+(bill*20)/100\n",
    "print(bill)"
   ]
  },
  {
   "cell_type": "code",
   "execution_count": 4,
   "metadata": {},
   "outputs": [
    {
     "name": "stdout",
     "output_type": "stream",
     "text": [
      "500\n",
      "5\n",
      "125.0\n"
     ]
    }
   ],
   "source": [
    "r=int(input())\n",
    "n=int(input())\n",
    "if n==1:\n",
    "    tip=(r*5)/100\n",
    "    print(tip)\n",
    "if n==2:\n",
    "    tip=(r*10)/100\n",
    "    print(tip)\n",
    "if n==3:\n",
    "    tip=(r*15)/100\n",
    "    print(tip)\n",
    "if n==4:\n",
    "    tip=(r*20)/100\n",
    "    print(tip)\n",
    "if n==5:\n",
    "    tip=(r*25)/100\n",
    "    print(tip)"
   ]
  },
  {
   "cell_type": "code",
   "execution_count": 18,
   "metadata": {},
   "outputs": [
    {
     "name": "stdout",
     "output_type": "stream",
     "text": [
      "adbecf\n"
     ]
    }
   ],
   "source": [
    "first =\"abc\"\n",
    "second =\"def\"\n",
    "third=''\n",
    "for i in range(len(first)):               \n",
    "               third=third+first[i]+second[i]\n",
    "print(third)"
   ]
  },
  {
   "cell_type": "code",
   "execution_count": 5,
   "metadata": {},
   "outputs": [
    {
     "name": "stdout",
     "output_type": "stream",
     "text": [
      "INC34A67\n",
      "valid\n"
     ]
    }
   ],
   "source": [
    "ticket=input()\n",
    "if ticket[:3] == \"INC\" and len(ticket[3:])==5:\n",
    "    alpha=0\n",
    "    number=0\n",
    "    t=True\n",
    "    for i in ticket[3:]:\n",
    "        if(i.isalpha()):\n",
    "            alpha+=1\n",
    "            if(i.isupper()==False):\n",
    "                t=False\n",
    "                break\n",
    "            \n",
    "        elif(i.isdigit()):\n",
    "            number+=1\n",
    "    \n",
    "    \n",
    "    if((t==False) or ((alpha+number)!=5) or alpha==0 or number==0):\n",
    "        print(\"invalid\")\n",
    "    else:\n",
    "        print(\"valid\")\n",
    "else:\n",
    "    print(\"invalid\")\n",
    "    \n",
    "        "
   ]
  },
  {
   "cell_type": "code",
   "execution_count": null,
   "metadata": {},
   "outputs": [],
   "source": [
    "filenames=['text1.txt','text2.txt']\n",
    "with open('output_file','w') as outfile:\n",
    "    for fname in filenames:\n",
    "        with open(fname) as infile:\n",
    "            outfile.write(infile.read())\n",
    "        "
   ]
  },
  {
   "cell_type": "code",
   "execution_count": null,
   "metadata": {},
   "outputs": [],
   "source": [
    "with open('myfile') as file:\n",
    "    for line in file:\n",
    "        if not line.isspace():\n",
    "            file.write(line)"
   ]
  },
  {
   "cell_type": "code",
   "execution_count": null,
   "metadata": {},
   "outputs": [],
   "source": []
  },
  {
   "cell_type": "code",
   "execution_count": 14,
   "metadata": {},
   "outputs": [],
   "source": []
  }
 ],
 "metadata": {
  "kernelspec": {
   "display_name": "Python 3",
   "language": "python",
   "name": "python3"
  },
  "language_info": {
   "codemirror_mode": {
    "name": "ipython",
    "version": 3
   },
   "file_extension": ".py",
   "mimetype": "text/x-python",
   "name": "python",
   "nbconvert_exporter": "python",
   "pygments_lexer": "ipython3",
   "version": "3.6.2"
  }
 },
 "nbformat": 4,
 "nbformat_minor": 2
}
